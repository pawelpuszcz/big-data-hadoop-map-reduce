{
 "cells": [
  {
   "cell_type": "code",
   "execution_count": null,
   "id": "91e0a2b2",
   "metadata": {},
   "outputs": [],
   "source": [
    "import pandas as pd"
   ]
  },
  {
   "cell_type": "code",
   "execution_count": null,
   "id": "3193cedc",
   "metadata": {},
   "outputs": [],
   "source": [
    "df = pd.read_csv('average_delay.csv', sep='\\t', names=['month', 'to_split'])\n",
    "df[['dep_delay', 'arr_delay']] = df.to_split.str[1:-1].str.split(', ').apply(pd.Series)\n",
    "df = df.drop(columns='to_split')\n",
    "df"
   ]
  },
  {
   "cell_type": "code",
   "execution_count": null,
   "id": "8143c1e4",
   "metadata": {},
   "outputs": [],
   "source": [
    "df[['dep_delay', 'arr_delay']] = df[['dep_delay', 'arr_delay']].astype(float)"
   ]
  },
  {
   "cell_type": "code",
   "execution_count": null,
   "id": "96c15834",
   "metadata": {},
   "outputs": [],
   "source": [
    "pip install plotly"
   ]
  },
  {
   "cell_type": "code",
   "execution_count": null,
   "id": "068693c0",
   "metadata": {},
   "outputs": [],
   "source": [
    "import plotly.express as px"
   ]
  },
  {
   "cell_type": "code",
   "execution_count": null,
   "id": "1ecb49cd",
   "metadata": {},
   "outputs": [],
   "source": [
    "fig = px.bar(df, x='month', y='dep_delay', color='month')\n",
    "fig.show()"
   ]
  },
  {
   "cell_type": "code",
   "execution_count": null,
   "id": "ebe2e51a",
   "metadata": {},
   "outputs": [],
   "source": [
    "fig = px.bar(df, x='month', y='arr_delay', color='month')\n",
    "fig.show()"
   ]
  },
  {
   "cell_type": "code",
   "execution_count": null,
   "id": "0a65f458",
   "metadata": {},
   "outputs": [],
   "source": [
    " import plotly.graph_objects as go"
   ]
  },
  {
   "cell_type": "code",
   "execution_count": null,
   "id": "d775dca5",
   "metadata": {},
   "outputs": [],
   "source": [
    "fig = go.Figure(data = [go.Bar(x=df.month, y=df.dep_delay, name='departure delay', marker_color='#1DB0C4'),\n",
    "                        go.Bar(x=df.month, y=df.arr_delay, name='arrival delay', marker_color='#8C0074')],\n",
    "               layout=go.Layout(title='Average Departure and Arrival Delay by Month USA 2015-01'))\n",
    "fig.show()"
   ]
  },
  {
   "cell_type": "code",
   "execution_count": null,
   "id": "d9585c11",
   "metadata": {},
   "outputs": [],
   "source": [
    "fig = go.Figure(data = [go.Bar(x=df.month, y=df.dep_delay, name='departure delay', marker_color='#1DB0C4'),\n",
    "                        go.Bar(x=df.month, y=df.arr_delay, name='arrival delay', marker_color='#8C0074')],\n",
    "               layout=go.Layout(title='Average Departure and Arrival Delay by Month USA 2015-01',\n",
    "                               barmode='stack'))\n",
    "fig.show()"
   ]
  },
  {
   "cell_type": "code",
   "execution_count": null,
   "id": "dba0bdf1",
   "metadata": {},
   "outputs": [],
   "source": []
  }
 ],
 "metadata": {
  "kernelspec": {
   "display_name": "Python 3 (ipykernel)",
   "language": "python",
   "name": "python3"
  },
  "language_info": {
   "codemirror_mode": {
    "name": "ipython",
    "version": 3
   },
   "file_extension": ".py",
   "mimetype": "text/x-python",
   "name": "python",
   "nbconvert_exporter": "python",
   "pygments_lexer": "ipython3",
   "version": "3.9.7"
  }
 },
 "nbformat": 4,
 "nbformat_minor": 5
}
